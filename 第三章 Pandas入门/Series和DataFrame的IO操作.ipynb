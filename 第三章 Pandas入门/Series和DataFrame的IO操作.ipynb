{
 "cells": [
  {
   "cell_type": "code",
   "execution_count": 1,
   "metadata": {},
   "outputs": [],
   "source": [
    "import numpy as np\n",
    "import pandas as pd"
   ]
  },
  {
   "cell_type": "markdown",
   "metadata": {},
   "source": [
    "### 粘贴板的读写"
   ]
  },
  {
   "cell_type": "code",
   "execution_count": 2,
   "metadata": {},
   "outputs": [
    {
     "data": {
      "text/html": [
       "<div>\n",
       "<style scoped>\n",
       "    .dataframe tbody tr th:only-of-type {\n",
       "        vertical-align: middle;\n",
       "    }\n",
       "\n",
       "    .dataframe tbody tr th {\n",
       "        vertical-align: top;\n",
       "    }\n",
       "\n",
       "    .dataframe thead th {\n",
       "        text-align: right;\n",
       "    }\n",
       "</style>\n",
       "<table border=\"1\" class=\"dataframe\">\n",
       "  <thead>\n",
       "    <tr style=\"text-align: right;\">\n",
       "      <th></th>\n",
       "      <th>排名</th>\n",
       "      <th>中文名</th>\n",
       "      <th>财富</th>\n",
       "      <th>年龄</th>\n",
       "      <th>财富来源</th>\n",
       "      <th>国家</th>\n",
       "    </tr>\n",
       "  </thead>\n",
       "  <tbody>\n",
       "    <tr>\n",
       "      <th>0</th>\n",
       "      <td>1</td>\n",
       "      <td>杰夫·贝索斯</td>\n",
       "      <td>1284亿美元</td>\n",
       "      <td>54</td>\n",
       "      <td>亚马逊</td>\n",
       "      <td>美国</td>\n",
       "    </tr>\n",
       "    <tr>\n",
       "      <th>1</th>\n",
       "      <td>2</td>\n",
       "      <td>比尔·盖茨</td>\n",
       "      <td>915亿美元</td>\n",
       "      <td>62</td>\n",
       "      <td>微软</td>\n",
       "      <td>美国</td>\n",
       "    </tr>\n",
       "    <tr>\n",
       "      <th>2</th>\n",
       "      <td>3</td>\n",
       "      <td>沃伦·巴菲特</td>\n",
       "      <td>879亿美元</td>\n",
       "      <td>87</td>\n",
       "      <td>伯克希尔哈撒韦</td>\n",
       "      <td>美国</td>\n",
       "    </tr>\n",
       "  </tbody>\n",
       "</table>\n",
       "</div>"
      ],
      "text/plain": [
       "   排名     中文名       财富  年龄     财富来源  国家\n",
       "0   1  杰夫·贝索斯  1284亿美元  54      亚马逊  美国\n",
       "1   2   比尔·盖茨   915亿美元  62       微软  美国\n",
       "2   3  沃伦·巴菲特   879亿美元  87  伯克希尔哈撒韦  美国"
      ]
     },
     "execution_count": 2,
     "metadata": {},
     "output_type": "execute_result"
    }
   ],
   "source": [
    "df1 = pd.read_clipboard()   # 读\n",
    "df1"
   ]
  },
  {
   "cell_type": "code",
   "execution_count": 4,
   "metadata": {},
   "outputs": [],
   "source": [
    "df1.to_clipboard()   # 写"
   ]
  },
  {
   "cell_type": "markdown",
   "metadata": {},
   "source": [
    "### csv文件的读写"
   ]
  },
  {
   "cell_type": "code",
   "execution_count": 8,
   "metadata": {},
   "outputs": [],
   "source": [
    "df1.to_csv('df1.csv')"
   ]
  },
  {
   "cell_type": "code",
   "execution_count": 9,
   "metadata": {},
   "outputs": [],
   "source": [
    "df2 = pd.read_csv('df1.csv')"
   ]
  },
  {
   "cell_type": "code",
   "execution_count": 10,
   "metadata": {},
   "outputs": [
    {
     "data": {
      "text/html": [
       "<div>\n",
       "<style scoped>\n",
       "    .dataframe tbody tr th:only-of-type {\n",
       "        vertical-align: middle;\n",
       "    }\n",
       "\n",
       "    .dataframe tbody tr th {\n",
       "        vertical-align: top;\n",
       "    }\n",
       "\n",
       "    .dataframe thead th {\n",
       "        text-align: right;\n",
       "    }\n",
       "</style>\n",
       "<table border=\"1\" class=\"dataframe\">\n",
       "  <thead>\n",
       "    <tr style=\"text-align: right;\">\n",
       "      <th></th>\n",
       "      <th>Unnamed: 0</th>\n",
       "      <th>排名</th>\n",
       "      <th>中文名</th>\n",
       "      <th>财富</th>\n",
       "      <th>年龄</th>\n",
       "      <th>财富来源</th>\n",
       "      <th>国家</th>\n",
       "    </tr>\n",
       "  </thead>\n",
       "  <tbody>\n",
       "    <tr>\n",
       "      <th>0</th>\n",
       "      <td>0</td>\n",
       "      <td>1</td>\n",
       "      <td>杰夫·贝索斯</td>\n",
       "      <td>1284亿美元</td>\n",
       "      <td>54</td>\n",
       "      <td>亚马逊</td>\n",
       "      <td>美国</td>\n",
       "    </tr>\n",
       "    <tr>\n",
       "      <th>1</th>\n",
       "      <td>1</td>\n",
       "      <td>2</td>\n",
       "      <td>比尔·盖茨</td>\n",
       "      <td>915亿美元</td>\n",
       "      <td>62</td>\n",
       "      <td>微软</td>\n",
       "      <td>美国</td>\n",
       "    </tr>\n",
       "    <tr>\n",
       "      <th>2</th>\n",
       "      <td>2</td>\n",
       "      <td>3</td>\n",
       "      <td>沃伦·巴菲特</td>\n",
       "      <td>879亿美元</td>\n",
       "      <td>87</td>\n",
       "      <td>伯克希尔哈撒韦</td>\n",
       "      <td>美国</td>\n",
       "    </tr>\n",
       "  </tbody>\n",
       "</table>\n",
       "</div>"
      ],
      "text/plain": [
       "   Unnamed: 0  排名     中文名       财富  年龄     财富来源  国家\n",
       "0           0   1  杰夫·贝索斯  1284亿美元  54      亚马逊  美国\n",
       "1           1   2   比尔·盖茨   915亿美元  62       微软  美国\n",
       "2           2   3  沃伦·巴菲特   879亿美元  87  伯克希尔哈撒韦  美国"
      ]
     },
     "execution_count": 10,
     "metadata": {},
     "output_type": "execute_result"
    }
   ],
   "source": [
    "df2"
   ]
  },
  {
   "cell_type": "markdown",
   "metadata": {},
   "source": [
    "### json文件的读写"
   ]
  },
  {
   "cell_type": "code",
   "execution_count": 11,
   "metadata": {},
   "outputs": [],
   "source": [
    "df1.to_json('df1.json')"
   ]
  },
  {
   "cell_type": "code",
   "execution_count": 12,
   "metadata": {},
   "outputs": [
    {
     "data": {
      "text/html": [
       "<div>\n",
       "<style scoped>\n",
       "    .dataframe tbody tr th:only-of-type {\n",
       "        vertical-align: middle;\n",
       "    }\n",
       "\n",
       "    .dataframe tbody tr th {\n",
       "        vertical-align: top;\n",
       "    }\n",
       "\n",
       "    .dataframe thead th {\n",
       "        text-align: right;\n",
       "    }\n",
       "</style>\n",
       "<table border=\"1\" class=\"dataframe\">\n",
       "  <thead>\n",
       "    <tr style=\"text-align: right;\">\n",
       "      <th></th>\n",
       "      <th>中文名</th>\n",
       "      <th>国家</th>\n",
       "      <th>年龄</th>\n",
       "      <th>排名</th>\n",
       "      <th>财富</th>\n",
       "      <th>财富来源</th>\n",
       "    </tr>\n",
       "  </thead>\n",
       "  <tbody>\n",
       "    <tr>\n",
       "      <th>0</th>\n",
       "      <td>杰夫·贝索斯</td>\n",
       "      <td>美国</td>\n",
       "      <td>54</td>\n",
       "      <td>1</td>\n",
       "      <td>1284亿美元</td>\n",
       "      <td>亚马逊</td>\n",
       "    </tr>\n",
       "    <tr>\n",
       "      <th>1</th>\n",
       "      <td>比尔·盖茨</td>\n",
       "      <td>美国</td>\n",
       "      <td>62</td>\n",
       "      <td>2</td>\n",
       "      <td>915亿美元</td>\n",
       "      <td>微软</td>\n",
       "    </tr>\n",
       "    <tr>\n",
       "      <th>2</th>\n",
       "      <td>沃伦·巴菲特</td>\n",
       "      <td>美国</td>\n",
       "      <td>87</td>\n",
       "      <td>3</td>\n",
       "      <td>879亿美元</td>\n",
       "      <td>伯克希尔哈撒韦</td>\n",
       "    </tr>\n",
       "  </tbody>\n",
       "</table>\n",
       "</div>"
      ],
      "text/plain": [
       "      中文名  国家  年龄  排名       财富     财富来源\n",
       "0  杰夫·贝索斯  美国  54   1  1284亿美元      亚马逊\n",
       "1   比尔·盖茨  美国  62   2   915亿美元       微软\n",
       "2  沃伦·巴菲特  美国  87   3   879亿美元  伯克希尔哈撒韦"
      ]
     },
     "execution_count": 12,
     "metadata": {},
     "output_type": "execute_result"
    }
   ],
   "source": [
    "df3 = pd.read_json('df1.json')\n",
    "df3"
   ]
  },
  {
   "cell_type": "markdown",
   "metadata": {},
   "source": [
    "### html文件的读写"
   ]
  },
  {
   "cell_type": "code",
   "execution_count": 15,
   "metadata": {},
   "outputs": [],
   "source": [
    "df1.to_html('df1.html', index=False)    # 取消index"
   ]
  },
  {
   "cell_type": "code",
   "execution_count": 16,
   "metadata": {},
   "outputs": [
    {
     "data": {
      "text/plain": [
       "[   ÅÅÃû        ÖÐÎÄÃû        ²Æ¸»  ÄêÁä        ²Æ¸»À´Ô´  ¹ú¼Ò\n",
       " 0     1  ½Ü·ò¡¤±´Ë÷Ë¹  1284ÒÚÃÀÔª    54          ÑÇÂíÑ·  ÃÀ¹ú\n",
       " 1     2    ±È¶û¡¤¸Ç´Ä   915ÒÚÃÀÔª    62            Î¢Èí  ÃÀ¹ú\n",
       " 2     3  ÎÖÂ×¡¤°Í·ÆÌØ   879ÒÚÃÀÔª    87  ²®¿ËÏ£¶û¹þÈöÎ¤  ÃÀ¹ú]"
      ]
     },
     "execution_count": 16,
     "metadata": {},
     "output_type": "execute_result"
    }
   ],
   "source": [
    "df4 = pd.read_html('df1.html')\n",
    "df4"
   ]
  },
  {
   "cell_type": "code",
   "execution_count": null,
   "metadata": {},
   "outputs": [],
   "source": []
  },
  {
   "cell_type": "code",
   "execution_count": null,
   "metadata": {},
   "outputs": [],
   "source": []
  }
 ],
 "metadata": {
  "kernelspec": {
   "display_name": "Python 3",
   "language": "python",
   "name": "python3"
  },
  "language_info": {
   "codemirror_mode": {
    "name": "ipython",
    "version": 3
   },
   "file_extension": ".py",
   "mimetype": "text/x-python",
   "name": "python",
   "nbconvert_exporter": "python",
   "pygments_lexer": "ipython3",
   "version": "3.6.4"
  }
 },
 "nbformat": 4,
 "nbformat_minor": 2
}
