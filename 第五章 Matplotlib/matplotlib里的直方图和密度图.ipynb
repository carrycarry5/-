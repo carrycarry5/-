{
 "cells": [
  {
   "cell_type": "code",
   "execution_count": 2,
   "metadata": {},
   "outputs": [],
   "source": [
    "import numpy as np\n",
    "import pandas as pd\n",
    "import matplotlib.pyplot as plt"
   ]
  },
  {
   "cell_type": "markdown",
   "metadata": {},
   "source": [
    "### 直方图"
   ]
  },
  {
   "cell_type": "code",
   "execution_count": 3,
   "metadata": {},
   "outputs": [
    {
     "data": {
      "image/png": "[encoded data removed]",
      "text/plain": [
       "<matplotlib.figure.Figure at 0x2358c873cc0>"
      ]
     },
     "metadata": {},
     "output_type": "display_data"
    }
   ],
   "source": [
    "s1 = pd.Series(data=np.random.randn(1000))\n",
    "a = plt.hist(s1, rwidth=0.9)"
   ]
  },
  {
   "cell_type": "code",
   "execution_count": 7,
   "metadata": {},
   "outputs": [
    {
     "data": {
      "text/plain": [
       "(array([  6.,  14.,  65., 176., 249., 238., 152.,  84.,  13.,   3.]),\n",
       " array([-3.24375794, -2.59791923, -1.95208051, -1.3062418 , -0.66040308,\n",
       "        -0.01456437,  0.63127434,  1.27711306,  1.92295177,  2.56879048,\n",
       "         3.2146292 ]),\n",
       " <a list of 10 Patch objects>)"
      ]
     },
     "execution_count": 7,
     "metadata": {},
     "output_type": "execute_result"
    }
   ],
   "source": [
    "a  # a 是一个tuple"
   ]
  },
  {
   "cell_type": "code",
   "execution_count": 8,
   "metadata": {
    "scrolled": true
   },
   "outputs": [
    {
     "data": {
      "text/plain": [
       "array([  6.,  14.,  65., 176., 249., 238., 152.,  84.,  13.,   3.])"
      ]
     },
     "execution_count": 8,
     "metadata": {},
     "output_type": "execute_result"
    }
   ],
   "source": [
    "a[0]  # a[0]表示取值的频率"
   ]
  },
  {
   "cell_type": "code",
   "execution_count": 9,
   "metadata": {
    "scrolled": true
   },
   "outputs": [
    {
     "data": {
      "text/plain": [
       "array([-3.24375794, -2.59791923, -1.95208051, -1.3062418 , -0.66040308,\n",
       "       -0.01456437,  0.63127434,  1.27711306,  1.92295177,  2.56879048,\n",
       "        3.2146292 ])"
      ]
     },
     "execution_count": 9,
     "metadata": {},
     "output_type": "execute_result"
    }
   ],
   "source": [
    "a[1]  # a[1]表示取值间隔"
   ]
  },
  {
   "cell_type": "code",
   "execution_count": 10,
   "metadata": {},
   "outputs": [
    {
     "data": {
      "text/plain": [
       "<a list of 10 Patch objects>"
      ]
     },
     "execution_count": 10,
     "metadata": {},
     "output_type": "execute_result"
    }
   ],
   "source": [
    "a[2]"
   ]
  },
  {
   "cell_type": "code",
   "execution_count": 16,
   "metadata": {},
   "outputs": [
    {
     "data": {
      "text/plain": [
       "(array([  2.,   4.,   4.,  10.,  28.,  37.,  82.,  94., 120., 129., 126.,\n",
       "        112.,  88.,  64.,  63.,  21.,   9.,   4.,   1.,   2.]),\n",
       " array([-3.24375794, -2.92083858, -2.59791923, -2.27499987, -1.95208051,\n",
       "        -1.62916116, -1.3062418 , -0.98332244, -0.66040308, -0.33748373,\n",
       "        -0.01456437,  0.30835499,  0.63127434,  0.9541937 ,  1.27711306,\n",
       "         1.60003241,  1.92295177,  2.24587113,  2.56879048,  2.89170984,\n",
       "         3.2146292 ]),\n",
       " <a list of 20 Patch objects>)"
      ]
     },
     "execution_count": 16,
     "metadata": {},
     "output_type": "execute_result"
    },
    {
     "data": {
      "image/png": "[encoded data removed]",
      "text/plain": [
       "<matplotlib.figure.Figure at 0x1da1d117198>"
      ]
     },
     "metadata": {},
     "output_type": "display_data"
    }
   ],
   "source": [
    "plt.hist(s1, bins=20, rwidth=0.9)          # bins设置分割份数默认为10，rwidth设置宽度"
   ]
  },
  {
   "cell_type": "markdown",
   "metadata": {},
   "source": [
    "### 密度图"
   ]
  },
  {
   "cell_type": "code",
   "execution_count": 17,
   "metadata": {},
   "outputs": [
    {
     "data": {
      "text/plain": [
       "0     -0.717949\n",
       "1     -1.140642\n",
       "2      0.194941\n",
       "3     -2.438920\n",
       "4     -0.332924\n",
       "5      0.111077\n",
       "6     -1.100704\n",
       "7      0.340503\n",
       "8      0.076837\n",
       "9     -0.242726\n",
       "10    -0.469210\n",
       "11    -0.652271\n",
       "12    -0.723122\n",
       "13    -0.250057\n",
       "14     0.895678\n",
       "15    -0.678491\n",
       "16     0.889217\n",
       "17    -0.166589\n",
       "18    -1.909281\n",
       "19    -0.719134\n",
       "20    -0.093066\n",
       "21     0.297159\n",
       "22    -0.413973\n",
       "23    -0.119516\n",
       "24     1.268470\n",
       "25     1.617275\n",
       "26    -1.994305\n",
       "27    -1.152832\n",
       "28    -0.470612\n",
       "29    -0.061455\n",
       "         ...   \n",
       "970   -2.205886\n",
       "971    0.804720\n",
       "972    0.104961\n",
       "973    1.496632\n",
       "974   -1.787482\n",
       "975   -1.667444\n",
       "976   -1.569321\n",
       "977    1.134628\n",
       "978   -0.262298\n",
       "979   -0.369538\n",
       "980    1.045437\n",
       "981    0.780643\n",
       "982   -0.074229\n",
       "983    0.752556\n",
       "984    1.079991\n",
       "985   -2.671394\n",
       "986    0.462143\n",
       "987    0.140712\n",
       "988    0.527249\n",
       "989   -0.488007\n",
       "990    1.323755\n",
       "991    0.977643\n",
       "992   -1.032906\n",
       "993   -0.561214\n",
       "994   -0.525556\n",
       "995    0.894794\n",
       "996   -0.011397\n",
       "997    1.076157\n",
       "998   -0.459159\n",
       "999   -0.993654\n",
       "Length: 1000, dtype: float64"
      ]
     },
     "execution_count": 17,
     "metadata": {},
     "output_type": "execute_result"
    }
   ],
   "source": [
    "s1"
   ]
  },
  {
   "cell_type": "code",
   "execution_count": 18,
   "metadata": {
    "scrolled": true
   },
   "outputs": [
    {
     "data": {
      "text/plain": [
       "<matplotlib.axes._subplots.AxesSubplot at 0x1da1c9d06d8>"
      ]
     },
     "execution_count": 18,
     "metadata": {},
     "output_type": "execute_result"
    },
    {
     "data": {
      "image/png": "[encoded data removed]",
      "text/plain": [
       "<matplotlib.figure.Figure at 0x1da11a99b38>"
      ]
     },
     "metadata": {},
     "output_type": "display_data"
    }
   ],
   "source": [
    "s1.plot(kind='kde')  # 密度图"
   ]
  },
  {
   "cell_type": "code",
   "execution_count": null,
   "metadata": {},
   "outputs": [],
   "source": []
  },
  {
   "cell_type": "code",
   "execution_count": null,
   "metadata": {},
   "outputs": [],
   "source": []
  }
 ],
 "metadata": {
  "kernelspec": {
   "display_name": "Python 3",
   "language": "python",
   "name": "python3"
  },
  "language_info": {
   "codemirror_mode": {
    "name": "ipython",
    "version": 3
   },
   "file_extension": ".py",
   "mimetype": "text/x-python",
   "name": "python",
   "nbconvert_exporter": "python",
   "pygments_lexer": "ipython3",
   "version": "3.6.4"
  }
 },
 "nbformat": 4,
 "nbformat_minor": 2
}
